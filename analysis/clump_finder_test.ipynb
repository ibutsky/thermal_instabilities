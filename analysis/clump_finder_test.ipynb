{
 "cells": [
  {
   "cell_type": "code",
   "execution_count": 1,
   "metadata": {},
   "outputs": [
    {
     "name": "stderr",
     "output_type": "stream",
     "text": [
      "yt : [INFO     ] 2020-01-22 13:42:58,136 Parameters: current_time              = 0\n",
      "yt : [INFO     ] 2020-01-22 13:42:58,138 Parameters: domain_dimensions         = [128 128 128]\n",
      "yt : [INFO     ] 2020-01-22 13:42:58,139 Parameters: domain_left_edge          = [-3. -3. -3.]\n",
      "yt : [INFO     ] 2020-01-22 13:42:58,140 Parameters: domain_right_edge         = [3. 3. 3.]\n",
      "yt : [INFO     ] 2020-01-22 13:42:58,141 Parameters: cosmological_simulation   = 0.0\n"
     ]
    }
   ],
   "source": [
    "import yt\n",
    "from yt import YTArray\n",
    "from yt import YTQuantity\n",
    "from yt.data_objects.level_sets.api import *\n",
    "\n",
    "from astropy import constants as const\n",
    "\n",
    "import numpy as np\n",
    "\n",
    "import matplotlib\n",
    "%matplotlib inline\n",
    "import matplotlib.pylab as plt\n",
    "from matplotlib.colors import SymLogNorm, LogNorm\n",
    "\n",
    "import palettable\n",
    "import plotting_tools as pt\n",
    "import yt_functions as ytf\n",
    "\n",
    "\n",
    "\n"
   ]
  },
  {
   "cell_type": "code",
   "execution_count": 20,
   "metadata": {},
   "outputs": [],
   "source": [
    "def get_masked_data_source(ds, z_min = 0.8, z_max = 1.2, T_cold = 3.33333e5):\n",
    "    ad = ds.all_data()\n",
    "    z_abs_code = np.abs(ad[('gas', 'z')] / ds.length_unit.in_units('kpc'))\n",
    "    zmask= (z_abs_code >= z_min) & (z_abs_code <= z_max)\n",
    "    return ad[zmask]\n",
    "\n",
    "def _maximum_gas_temperature(clump, max_temp):\n",
    "    return (clump[\"gas\", \"temperature\"].sum() <= max_temp)\n",
    "add_validator(\"maximum_gas_temperature\", _maximum_gas_temperature)"
   ]
  },
  {
   "cell_type": "code",
   "execution_count": 3,
   "metadata": {},
   "outputs": [
    {
     "name": "stderr",
     "output_type": "stream",
     "text": [
      "yt : [INFO     ] 2020-01-22 13:43:26,315 Parameters: current_time              = 1.4999997187781\n",
      "yt : [INFO     ] 2020-01-22 13:43:26,316 Parameters: domain_dimensions         = [ 64  64 256]\n",
      "yt : [INFO     ] 2020-01-22 13:43:26,317 Parameters: domain_left_edge          = [-0.5 -0.5 -2. ]\n",
      "yt : [INFO     ] 2020-01-22 13:43:26,318 Parameters: domain_right_edge         = [0.5 0.5 2. ]\n",
      "yt : [INFO     ] 2020-01-22 13:43:26,319 Parameters: cosmological_simulation   = 0.0\n",
      "yt : [INFO     ] 2020-01-22 13:43:26,323 Gathering a field list (this may take a moment.)\n"
     ]
    }
   ],
   "source": [
    "i = 50\n",
    "folder = 'production/isocool_tctf_0.3_beta_100.0'\n",
    "ds = ytf.load('../../simulations/%s/DD%04d/DD%04d'%(folder, i, i))\n"
   ]
  },
  {
   "cell_type": "code",
   "execution_count": 34,
   "metadata": {},
   "outputs": [],
   "source": [
    "ad = ds.all_data()\n",
    "reg = ds.r[:, :, .8:1.2]\n"
   ]
  },
  {
   "cell_type": "code",
   "execution_count": 29,
   "metadata": {},
   "outputs": [],
   "source": [
    "master_clump = Clump(reg, ('gas', 'temperature'))\n",
    "master_clump.add_validator(\"min_cells\", 8)\n",
    "#master_clump.add_validator(\"maximum_gas_temperature\", 3.33333e5)\n",
    "\n"
   ]
  },
  {
   "cell_type": "code",
   "execution_count": 30,
   "metadata": {},
   "outputs": [
    {
     "name": "stderr",
     "output_type": "stream",
     "text": [
      "yt : [INFO     ] 2020-01-22 13:58:54,753 Finding clumps: min: 4.893958e+04, max: 2.119404e+06, step: 2.000000\n",
      "yt : [INFO     ] 2020-01-22 13:58:55,064 Linking node (1) contours.\n",
      "yt : [INFO     ] 2020-01-22 13:58:55,450 Linked.\n",
      "yt : [INFO     ] 2020-01-22 13:58:56,436 Finding clumps: min: 9.787916e+04, max: 2.119404e+06, step: 2.000000\n",
      "yt : [INFO     ] 2020-01-22 13:58:56,526 Wiping out existing children clumps: 1.\n",
      "yt : [INFO     ] 2020-01-22 13:58:56,862 Linking node (1) contours.\n",
      "yt : [INFO     ] 2020-01-22 13:58:57,186 Linked.\n",
      "yt : [INFO     ] 2020-01-22 13:58:58,036 Finding clumps: min: 1.957583e+05, max: 2.119404e+06, step: 2.000000\n",
      "yt : [INFO     ] 2020-01-22 13:58:58,037 Wiping out existing children clumps: 1.\n",
      "yt : [INFO     ] 2020-01-22 13:58:58,454 Linking node (1) contours.\n",
      "yt : [INFO     ] 2020-01-22 13:58:58,799 Linked.\n",
      "yt : [INFO     ] 2020-01-22 13:59:00,028 Finding clumps: min: 3.915167e+05, max: 2.119404e+06, step: 2.000000\n",
      "yt : [INFO     ] 2020-01-22 13:59:00,030 Wiping out existing children clumps: 1.\n",
      "yt : [INFO     ] 2020-01-22 13:59:00,433 Linking node (1) contours.\n",
      "yt : [INFO     ] 2020-01-22 13:59:00,776 Linked.\n",
      "yt : [INFO     ] 2020-01-22 13:59:01,729 Finding clumps: min: 7.830333e+05, max: 2.119404e+06, step: 2.000000\n",
      "yt : [INFO     ] 2020-01-22 13:59:01,730 Wiping out existing children clumps: 1.\n",
      "yt : [INFO     ] 2020-01-22 13:59:02,134 Linking node (1) contours.\n",
      "yt : [INFO     ] 2020-01-22 13:59:02,466 Linked.\n",
      "yt : [INFO     ] 2020-01-22 13:59:03,426 Finding clumps: min: 1.566067e+06, max: 2.119404e+06, step: 2.000000\n",
      "yt : [INFO     ] 2020-01-22 13:59:03,428 Wiping out existing children clumps: 1.\n",
      "yt : [INFO     ] 2020-01-22 13:59:03,752 Linking node (1) contours.\n",
      "yt : [INFO     ] 2020-01-22 13:59:04,121 Linked.\n",
      "yt : [INFO     ] 2020-01-22 13:59:05,026 Investigating 2 children.\n",
      "yt : [INFO     ] 2020-01-22 13:59:05,027 Finding clumps: min: 3.132133e+06, max: 2.119404e+06, step: 2.000000\n",
      "yt : [INFO     ] 2020-01-22 13:59:05,028 Finding clumps: min: 3.132133e+06, max: 2.119404e+06, step: 2.000000\n",
      "yt : [INFO     ] 2020-01-22 13:59:05,029 2 of 2 children survived.\n"
     ]
    }
   ],
   "source": [
    "c_min = reg[\"gas\", \"temperature\"].min()\n",
    "c_max = reg[\"gas\", \"temperature\"].max()\n",
    "step = 2.0\n",
    "find_clumps(master_clump, c_min, c_max, step)"
   ]
  },
  {
   "cell_type": "code",
   "execution_count": 33,
   "metadata": {},
   "outputs": [
    {
     "name": "stdout",
     "output_type": "stream",
     "text": [
      "('Cells: %d.', 9)\n"
     ]
    }
   ],
   "source": [
    "master_clump.add_info_item(\"total_cells\")\n",
    "leaf_clumps = master_clump.leaves\n",
    "clump = leaf_clumps[1]\n",
    "print(clump.info['total_cells'])"
   ]
  },
  {
   "cell_type": "code",
   "execution_count": 17,
   "metadata": {},
   "outputs": [
    {
     "name": "stdout",
     "output_type": "stream",
     "text": [
      "[1629145.27549999 1622939.90733232 1609259.02952231 ...   56302.5848589\n",
      "   57672.93987246   60644.63773788] K\n",
      "[<yt.data_objects.level_sets.clump_handling.Clump object at 0x2aaae52c5908>, <yt.data_objects.level_sets.clump_handling.Clump object at 0x2aaae52d4e80>]\n",
      "[1629145.27549999 1622939.90733232 1609259.02952231 ... 1751280.29349854\n",
      " 1744215.69161679 1689307.98969373] K\n"
     ]
    }
   ],
   "source": [
    "print(master_clump[\"gas\", \"temperature\"])\n",
    "print(master_clump.children)\n",
    "print(master_clump.children[0][\"gas\", \"temperature\"])"
   ]
  },
  {
   "cell_type": "code",
   "execution_count": 18,
   "metadata": {},
   "outputs": [
    {
     "ename": "AttributeError",
     "evalue": "'Clump' object has no attribute 'tree'",
     "output_type": "error",
     "traceback": [
      "\u001b[0;31m---------------------------------------------------------------------------\u001b[0m",
      "\u001b[0;31mAttributeError\u001b[0m                            Traceback (most recent call last)",
      "\u001b[0;32m<ipython-input-18-4522adec05a7>\u001b[0m in \u001b[0;36m<module>\u001b[0;34m\u001b[0m\n\u001b[0;32m----> 1\u001b[0;31m \u001b[0;32mfor\u001b[0m \u001b[0mclump\u001b[0m \u001b[0;32min\u001b[0m \u001b[0mmaster_clump\u001b[0m\u001b[0;34m.\u001b[0m\u001b[0mtree\u001b[0m\u001b[0;34m:\u001b[0m\u001b[0;34m\u001b[0m\u001b[0;34m\u001b[0m\u001b[0m\n\u001b[0m\u001b[1;32m      2\u001b[0m     \u001b[0mprint\u001b[0m\u001b[0;34m(\u001b[0m\u001b[0mclump\u001b[0m\u001b[0;34m.\u001b[0m\u001b[0mclump_id\u001b[0m\u001b[0;34m)\u001b[0m\u001b[0;34m\u001b[0m\u001b[0;34m\u001b[0m\u001b[0m\n",
      "\u001b[0;31mAttributeError\u001b[0m: 'Clump' object has no attribute 'tree'"
     ]
    }
   ],
   "source": [
    "for clump in master_clump.tree:\n",
    "    print(clump.clump_id)"
   ]
  },
  {
   "cell_type": "code",
   "execution_count": 41,
   "metadata": {
    "scrolled": false
   },
   "outputs": [
    {
     "name": "stderr",
     "output_type": "stream",
     "text": [
      "yt : [INFO     ] 2020-01-22 14:46:56,828 Finding clumps: min: 1.000000e-28, max: 1.000000e-26, step: 2.000000\n",
      "yt : [INFO     ] 2020-01-22 14:46:57,364 Linking node (1) contours.\n",
      "yt : [INFO     ] 2020-01-22 14:46:57,749 Linked.\n",
      "yt : [INFO     ] 2020-01-22 14:47:01,831 Finding clumps: min: 2.000000e-28, max: 1.000000e-26, step: 2.000000\n",
      "yt : [INFO     ] 2020-01-22 14:47:01,927 Wiping out existing children clumps: 1.\n",
      "yt : [INFO     ] 2020-01-22 14:47:02,361 Linking node (1) contours.\n",
      "yt : [INFO     ] 2020-01-22 14:47:02,729 Linked.\n",
      "yt : [INFO     ] 2020-01-22 14:47:06,933 Finding clumps: min: 4.000000e-28, max: 1.000000e-26, step: 2.000000\n",
      "yt : [INFO     ] 2020-01-22 14:47:07,029 Wiping out existing children clumps: 1.\n",
      "yt : [INFO     ] 2020-01-22 14:47:07,540 Linking node (1) contours.\n",
      "yt : [INFO     ] 2020-01-22 14:47:07,974 Linked.\n",
      "yt : [INFO     ] 2020-01-22 14:47:38,930 Investigating 11 children.\n",
      "yt : [INFO     ] 2020-01-22 14:47:39,028 Finding clumps: min: 8.000000e-28, max: 1.000000e-26, step: 2.000000\n",
      "yt : [INFO     ] 2020-01-22 14:47:41,034 Linking node (1) contours.\n",
      "yt : [INFO     ] 2020-01-22 14:47:41,407 Linked.\n",
      "yt : [INFO     ] 2020-01-22 14:47:45,029 Finding clumps: min: 1.600000e-27, max: 1.000000e-26, step: 2.000000\n",
      "yt : [INFO     ] 2020-01-22 14:47:45,030 Wiping out existing children clumps: 1.\n",
      "yt : [INFO     ] 2020-01-22 14:47:46,438 Linking node (1) contours.\n",
      "yt : [INFO     ] 2020-01-22 14:47:46,856 Linked.\n",
      "yt : [INFO     ] 2020-01-22 14:47:50,929 Finding clumps: min: 3.200000e-27, max: 1.000000e-26, step: 2.000000\n",
      "yt : [INFO     ] 2020-01-22 14:47:50,931 Wiping out existing children clumps: 1.\n",
      "yt : [INFO     ] 2020-01-22 14:47:52,430 Linking node (1) contours.\n",
      "yt : [INFO     ] 2020-01-22 14:47:53,013 Linked.\n",
      "yt : [INFO     ] 2020-01-22 14:48:02,532 Investigating 3 children.\n",
      "yt : [INFO     ] 2020-01-22 14:48:02,627 Finding clumps: min: 6.400000e-27, max: 1.000000e-26, step: 2.000000\n",
      "yt : [INFO     ] 2020-01-22 14:48:04,939 Linking node (1) contours.\n",
      "yt : [INFO     ] 2020-01-22 14:48:05,312 Linked.\n",
      "yt : [INFO     ] 2020-01-22 14:48:09,332 Finding clumps: min: 1.280000e-26, max: 1.000000e-26, step: 2.000000\n",
      "yt : [INFO     ] 2020-01-22 14:48:09,429 Finding clumps: min: 6.400000e-27, max: 1.000000e-26, step: 2.000000\n",
      "yt : [INFO     ] 2020-01-22 14:48:11,927 Linking node (1) contours.\n",
      "yt : [INFO     ] 2020-01-22 14:48:12,385 Linked.\n",
      "yt : [INFO     ] 2020-01-22 14:48:12,829 Finding clumps: min: 6.400000e-27, max: 1.000000e-26, step: 2.000000\n",
      "yt : [INFO     ] 2020-01-22 14:48:14,829 Linking node (1) contours.\n",
      "yt : [INFO     ] 2020-01-22 14:48:15,299 Linked.\n",
      "yt : [INFO     ] 2020-01-22 14:48:19,429 Finding clumps: min: 1.280000e-26, max: 1.000000e-26, step: 2.000000\n",
      "yt : [INFO     ] 2020-01-22 14:48:19,432 3 of 3 children survived.\n",
      "yt : [INFO     ] 2020-01-22 14:48:19,432 Finding clumps: min: 8.000000e-28, max: 1.000000e-26, step: 2.000000\n",
      "yt : [INFO     ] 2020-01-22 14:48:21,931 Linking node (1) contours.\n",
      "yt : [INFO     ] 2020-01-22 14:48:22,384 Linked.\n",
      "yt : [INFO     ] 2020-01-22 14:48:26,129 Finding clumps: min: 1.600000e-27, max: 1.000000e-26, step: 2.000000\n",
      "yt : [INFO     ] 2020-01-22 14:48:26,131 Wiping out existing children clumps: 1.\n",
      "yt : [INFO     ] 2020-01-22 14:48:27,629 Linking node (1) contours.\n",
      "yt : [INFO     ] 2020-01-22 14:48:28,028 Linked.\n",
      "yt : [INFO     ] 2020-01-22 14:48:32,030 Finding clumps: min: 3.200000e-27, max: 1.000000e-26, step: 2.000000\n",
      "yt : [INFO     ] 2020-01-22 14:48:32,127 Wiping out existing children clumps: 1.\n",
      "yt : [INFO     ] 2020-01-22 14:48:33,437 Linking node (1) contours.\n",
      "yt : [INFO     ] 2020-01-22 14:48:33,865 Linked.\n",
      "yt : [INFO     ] 2020-01-22 14:48:34,234 Finding clumps: min: 8.000000e-28, max: 1.000000e-26, step: 2.000000\n",
      "yt : [INFO     ] 2020-01-22 14:48:36,328 Linking node (1) contours.\n",
      "yt : [INFO     ] 2020-01-22 14:48:36,755 Linked.\n",
      "yt : [INFO     ] 2020-01-22 14:48:40,933 Finding clumps: min: 1.600000e-27, max: 1.000000e-26, step: 2.000000\n",
      "yt : [INFO     ] 2020-01-22 14:48:41,029 Wiping out existing children clumps: 1.\n",
      "yt : [INFO     ] 2020-01-22 14:48:42,431 Linking node (1) contours.\n",
      "yt : [INFO     ] 2020-01-22 14:48:42,800 Linked.\n",
      "yt : [INFO     ] 2020-01-22 14:48:43,140 Finding clumps: min: 8.000000e-28, max: 1.000000e-26, step: 2.000000\n",
      "yt : [INFO     ] 2020-01-22 14:48:45,241 Linking node (1) contours.\n",
      "yt : [INFO     ] 2020-01-22 14:48:45,637 Linked.\n",
      "yt : [INFO     ] 2020-01-22 14:48:45,940 Finding clumps: min: 8.000000e-28, max: 1.000000e-26, step: 2.000000\n",
      "yt : [INFO     ] 2020-01-22 14:48:48,139 Linking node (1) contours.\n",
      "yt : [INFO     ] 2020-01-22 14:48:48,598 Linked.\n",
      "yt : [INFO     ] 2020-01-22 14:48:52,832 Finding clumps: min: 1.600000e-27, max: 1.000000e-26, step: 2.000000\n",
      "yt : [INFO     ] 2020-01-22 14:48:52,927 Wiping out existing children clumps: 1.\n",
      "yt : [INFO     ] 2020-01-22 14:48:54,338 Linking node (1) contours.\n",
      "yt : [INFO     ] 2020-01-22 14:48:54,886 Linked.\n",
      "yt : [INFO     ] 2020-01-22 14:48:58,730 Finding clumps: min: 3.200000e-27, max: 1.000000e-26, step: 2.000000\n",
      "yt : [INFO     ] 2020-01-22 14:48:58,828 Wiping out existing children clumps: 1.\n",
      "yt : [INFO     ] 2020-01-22 14:49:00,142 Linking node (1) contours.\n",
      "yt : [INFO     ] 2020-01-22 14:49:00,828 Linked.\n",
      "yt : [INFO     ] 2020-01-22 14:49:07,429 Investigating 2 children.\n",
      "yt : [INFO     ] 2020-01-22 14:49:07,431 Finding clumps: min: 6.400000e-27, max: 1.000000e-26, step: 2.000000\n",
      "yt : [INFO     ] 2020-01-22 14:49:09,827 Linking node (1) contours.\n",
      "yt : [INFO     ] 2020-01-22 14:49:10,417 Linked.\n",
      "yt : [INFO     ] 2020-01-22 14:49:16,932 Investigating 2 children.\n",
      "yt : [INFO     ] 2020-01-22 14:49:17,127 Finding clumps: min: 1.280000e-26, max: 1.000000e-26, step: 2.000000\n",
      "yt : [INFO     ] 2020-01-22 14:49:17,128 Eliminating invalid, childless clump with 1 cells.\n",
      "yt : [INFO     ] 2020-01-22 14:49:17,129 Finding clumps: min: 1.280000e-26, max: 1.000000e-26, step: 2.000000\n",
      "yt : [INFO     ] 2020-01-22 14:49:17,129 Eliminating invalid, childless clump with 1 cells.\n",
      "yt : [INFO     ] 2020-01-22 14:49:17,130 0 of 2 children survived, erasing children.\n",
      "yt : [INFO     ] 2020-01-22 14:49:17,131 Finding clumps: min: 6.400000e-27, max: 1.000000e-26, step: 2.000000\n",
      "yt : [INFO     ] 2020-01-22 14:49:19,126 Linking node (1) contours.\n",
      "yt : [INFO     ] 2020-01-22 14:49:19,496 Linked.\n",
      "yt : [INFO     ] 2020-01-22 14:49:19,727 2 of 2 children survived.\n",
      "yt : [INFO     ] 2020-01-22 14:49:19,728 Finding clumps: min: 8.000000e-28, max: 1.000000e-26, step: 2.000000\n",
      "yt : [INFO     ] 2020-01-22 14:49:21,535 Linking node (1) contours.\n",
      "yt : [INFO     ] 2020-01-22 14:49:21,982 Linked.\n",
      "yt : [INFO     ] 2020-01-22 14:49:26,031 Finding clumps: min: 1.600000e-27, max: 1.000000e-26, step: 2.000000\n",
      "yt : [INFO     ] 2020-01-22 14:49:26,127 Wiping out existing children clumps: 1.\n",
      "yt : [INFO     ] 2020-01-22 14:49:27,431 Linking node (1) contours.\n",
      "yt : [INFO     ] 2020-01-22 14:49:27,867 Linked.\n",
      "yt : [INFO     ] 2020-01-22 14:49:32,230 Finding clumps: min: 3.200000e-27, max: 1.000000e-26, step: 2.000000\n",
      "yt : [INFO     ] 2020-01-22 14:49:32,327 Wiping out existing children clumps: 1.\n",
      "yt : [INFO     ] 2020-01-22 14:49:33,733 Linking node (1) contours.\n",
      "yt : [INFO     ] 2020-01-22 14:49:34,178 Linked.\n",
      "yt : [INFO     ] 2020-01-22 14:49:40,729 Investigating 2 children.\n",
      "yt : [INFO     ] 2020-01-22 14:49:40,730 Finding clumps: min: 6.400000e-27, max: 1.000000e-26, step: 2.000000\n",
      "yt : [INFO     ] 2020-01-22 14:49:43,233 Linking node (1) contours.\n",
      "yt : [INFO     ] 2020-01-22 14:49:43,693 Linked.\n",
      "yt : [INFO     ] 2020-01-22 14:49:44,042 Finding clumps: min: 6.400000e-27, max: 1.000000e-26, step: 2.000000\n",
      "yt : [INFO     ] 2020-01-22 14:49:46,336 Linking node (1) contours.\n",
      "yt : [INFO     ] 2020-01-22 14:49:46,793 Linked.\n",
      "yt : [INFO     ] 2020-01-22 14:49:47,050 2 of 2 children survived.\n",
      "yt : [INFO     ] 2020-01-22 14:49:47,051 Finding clumps: min: 8.000000e-28, max: 1.000000e-26, step: 2.000000\n",
      "yt : [INFO     ] 2020-01-22 14:49:49,330 Linking node (1) contours.\n",
      "yt : [INFO     ] 2020-01-22 14:49:49,790 Linked.\n",
      "yt : [INFO     ] 2020-01-22 14:49:50,048 Eliminating invalid, childless clump with 7 cells.\n",
      "yt : [INFO     ] 2020-01-22 14:49:50,049 Finding clumps: min: 8.000000e-28, max: 1.000000e-26, step: 2.000000\n"
     ]
    },
    {
     "name": "stderr",
     "output_type": "stream",
     "text": [
      "yt : [INFO     ] 2020-01-22 14:49:52,228 Linking node (1) contours.\n",
      "yt : [INFO     ] 2020-01-22 14:49:52,609 Linked.\n",
      "yt : [INFO     ] 2020-01-22 14:49:59,131 Investigating 2 children.\n",
      "yt : [INFO     ] 2020-01-22 14:49:59,229 Finding clumps: min: 1.600000e-27, max: 1.000000e-26, step: 2.000000\n",
      "yt : [INFO     ] 2020-01-22 14:50:01,542 Linking node (1) contours.\n",
      "yt : [INFO     ] 2020-01-22 14:50:01,930 Linked.\n",
      "yt : [INFO     ] 2020-01-22 14:50:05,733 Finding clumps: min: 3.200000e-27, max: 1.000000e-26, step: 2.000000\n",
      "yt : [INFO     ] 2020-01-22 14:50:05,830 Wiping out existing children clumps: 1.\n",
      "yt : [INFO     ] 2020-01-22 14:50:07,143 Linking node (1) contours.\n",
      "yt : [INFO     ] 2020-01-22 14:50:07,658 Linked.\n",
      "yt : [INFO     ] 2020-01-22 14:50:11,629 Finding clumps: min: 6.400000e-27, max: 1.000000e-26, step: 2.000000\n",
      "yt : [INFO     ] 2020-01-22 14:50:11,632 Wiping out existing children clumps: 1.\n",
      "yt : [INFO     ] 2020-01-22 14:50:12,940 Linking node (1) contours.\n",
      "yt : [INFO     ] 2020-01-22 14:50:13,408 Linked.\n",
      "yt : [INFO     ] 2020-01-22 14:50:16,930 Finding clumps: min: 1.280000e-26, max: 1.000000e-26, step: 2.000000\n",
      "yt : [INFO     ] 2020-01-22 14:50:16,931 Finding clumps: min: 1.600000e-27, max: 1.000000e-26, step: 2.000000\n",
      "yt : [INFO     ] 2020-01-22 14:50:19,342 Linking node (1) contours.\n",
      "yt : [INFO     ] 2020-01-22 14:50:19,756 Linked.\n",
      "yt : [INFO     ] 2020-01-22 14:50:23,329 Finding clumps: min: 3.200000e-27, max: 1.000000e-26, step: 2.000000\n",
      "yt : [INFO     ] 2020-01-22 14:50:23,426 Wiping out existing children clumps: 1.\n",
      "yt : [INFO     ] 2020-01-22 14:50:24,635 Linking node (1) contours.\n",
      "yt : [INFO     ] 2020-01-22 14:50:25,055 Linked.\n",
      "yt : [INFO     ] 2020-01-22 14:50:28,732 Finding clumps: min: 6.400000e-27, max: 1.000000e-26, step: 2.000000\n",
      "yt : [INFO     ] 2020-01-22 14:50:28,827 Wiping out existing children clumps: 1.\n",
      "yt : [INFO     ] 2020-01-22 14:50:30,334 Linking node (1) contours.\n",
      "yt : [INFO     ] 2020-01-22 14:50:30,711 Linked.\n",
      "yt : [INFO     ] 2020-01-22 14:50:31,041 2 of 2 children survived.\n",
      "yt : [INFO     ] 2020-01-22 14:50:31,042 Finding clumps: min: 8.000000e-28, max: 1.000000e-26, step: 2.000000\n",
      "yt : [INFO     ] 2020-01-22 14:50:33,137 Linking node (1) contours.\n",
      "yt : [INFO     ] 2020-01-22 14:50:33,587 Linked.\n",
      "yt : [INFO     ] 2020-01-22 14:50:40,129 Investigating 2 children.\n",
      "yt : [INFO     ] 2020-01-22 14:50:40,132 Finding clumps: min: 1.600000e-27, max: 1.000000e-26, step: 2.000000\n",
      "yt : [INFO     ] 2020-01-22 14:50:42,433 Linking node (1) contours.\n",
      "yt : [INFO     ] 2020-01-22 14:50:42,882 Linked.\n",
      "yt : [INFO     ] 2020-01-22 14:50:46,633 Finding clumps: min: 3.200000e-27, max: 1.000000e-26, step: 2.000000\n",
      "yt : [INFO     ] 2020-01-22 14:50:46,728 Wiping out existing children clumps: 1.\n",
      "yt : [INFO     ] 2020-01-22 14:50:48,047 Linking node (1) contours.\n",
      "yt : [INFO     ] 2020-01-22 14:50:48,468 Linked.\n",
      "yt : [INFO     ] 2020-01-22 14:50:52,231 Finding clumps: min: 6.400000e-27, max: 1.000000e-26, step: 2.000000\n",
      "yt : [INFO     ] 2020-01-22 14:50:52,328 Wiping out existing children clumps: 1.\n",
      "yt : [INFO     ] 2020-01-22 14:50:53,736 Linking node (1) contours.\n",
      "yt : [INFO     ] 2020-01-22 14:50:54,131 Linked.\n",
      "yt : [INFO     ] 2020-01-22 14:50:54,547 Finding clumps: min: 1.600000e-27, max: 1.000000e-26, step: 2.000000\n",
      "yt : [INFO     ] 2020-01-22 14:50:56,943 Linking node (1) contours.\n",
      "yt : [INFO     ] 2020-01-22 14:50:57,408 Linked.\n",
      "yt : [INFO     ] 2020-01-22 14:51:01,027 Finding clumps: min: 3.200000e-27, max: 1.000000e-26, step: 2.000000\n",
      "yt : [INFO     ] 2020-01-22 14:51:01,030 Wiping out existing children clumps: 1.\n",
      "yt : [INFO     ] 2020-01-22 14:51:02,431 Linking node (1) contours.\n",
      "yt : [INFO     ] 2020-01-22 14:51:02,796 Linked.\n",
      "yt : [INFO     ] 2020-01-22 14:51:06,632 Finding clumps: min: 6.400000e-27, max: 1.000000e-26, step: 2.000000\n",
      "yt : [INFO     ] 2020-01-22 14:51:06,729 Wiping out existing children clumps: 1.\n",
      "yt : [INFO     ] 2020-01-22 14:51:08,327 Linking node (1) contours.\n",
      "yt : [INFO     ] 2020-01-22 14:51:08,694 Linked.\n",
      "yt : [INFO     ] 2020-01-22 14:51:08,943 2 of 2 children survived.\n",
      "yt : [INFO     ] 2020-01-22 14:51:08,944 Finding clumps: min: 8.000000e-28, max: 1.000000e-26, step: 2.000000\n",
      "yt : [INFO     ] 2020-01-22 14:51:11,034 Linking node (1) contours.\n",
      "yt : [INFO     ] 2020-01-22 14:51:11,491 Linked.\n",
      "yt : [INFO     ] 2020-01-22 14:51:15,331 Finding clumps: min: 1.600000e-27, max: 1.000000e-26, step: 2.000000\n",
      "yt : [INFO     ] 2020-01-22 14:51:15,333 Wiping out existing children clumps: 1.\n",
      "yt : [INFO     ] 2020-01-22 14:51:16,742 Linking node (1) contours.\n",
      "yt : [INFO     ] 2020-01-22 14:51:17,235 Linked.\n",
      "yt : [INFO     ] 2020-01-22 14:51:23,229 Investigating 2 children.\n",
      "yt : [INFO     ] 2020-01-22 14:51:23,230 Finding clumps: min: 3.200000e-27, max: 1.000000e-26, step: 2.000000\n",
      "yt : [INFO     ] 2020-01-22 14:51:25,329 Linking node (1) contours.\n",
      "yt : [INFO     ] 2020-01-22 14:51:25,778 Linked.\n",
      "yt : [INFO     ] 2020-01-22 14:51:37,532 Investigating 4 children.\n",
      "yt : [INFO     ] 2020-01-22 14:51:37,629 Finding clumps: min: 6.400000e-27, max: 1.000000e-26, step: 2.000000\n",
      "yt : [INFO     ] 2020-01-22 14:51:40,033 Linking node (1) contours.\n",
      "yt : [INFO     ] 2020-01-22 14:51:40,490 Linked.\n",
      "yt : [INFO     ] 2020-01-22 14:51:40,936 Finding clumps: min: 6.400000e-27, max: 1.000000e-26, step: 2.000000\n",
      "yt : [INFO     ] 2020-01-22 14:51:42,928 Linking node (1) contours.\n",
      "yt : [INFO     ] 2020-01-22 14:51:43,321 Linked.\n",
      "yt : [INFO     ] 2020-01-22 14:51:43,642 Finding clumps: min: 6.400000e-27, max: 1.000000e-26, step: 2.000000\n",
      "yt : [INFO     ] 2020-01-22 14:51:45,835 Linking node (1) contours.\n",
      "yt : [INFO     ] 2020-01-22 14:51:46,201 Linked.\n",
      "yt : [INFO     ] 2020-01-22 14:51:46,439 Eliminating invalid, childless clump with 2 cells.\n",
      "yt : [INFO     ] 2020-01-22 14:51:46,441 Finding clumps: min: 6.400000e-27, max: 1.000000e-26, step: 2.000000\n",
      "yt : [INFO     ] 2020-01-22 14:51:48,436 Linking node (1) contours.\n",
      "yt : [INFO     ] 2020-01-22 14:51:48,801 Linked.\n",
      "yt : [INFO     ] 2020-01-22 14:51:49,047 Eliminating invalid, childless clump with 6 cells.\n",
      "yt : [INFO     ] 2020-01-22 14:51:49,048 2 of 4 children survived.\n",
      "yt : [INFO     ] 2020-01-22 14:51:49,049 Finding clumps: min: 3.200000e-27, max: 1.000000e-26, step: 2.000000\n",
      "yt : [INFO     ] 2020-01-22 14:51:50,827 Linking node (1) contours.\n",
      "yt : [INFO     ] 2020-01-22 14:51:51,214 Linked.\n",
      "yt : [INFO     ] 2020-01-22 14:51:55,627 Finding clumps: min: 6.400000e-27, max: 1.000000e-26, step: 2.000000\n",
      "yt : [INFO     ] 2020-01-22 14:51:55,630 Wiping out existing children clumps: 1.\n",
      "yt : [INFO     ] 2020-01-22 14:51:56,929 Linking node (1) contours.\n",
      "yt : [INFO     ] 2020-01-22 14:51:57,310 Linked.\n",
      "yt : [INFO     ] 2020-01-22 14:52:03,728 Investigating 2 children.\n",
      "yt : [INFO     ] 2020-01-22 14:52:03,731 Finding clumps: min: 1.280000e-26, max: 1.000000e-26, step: 2.000000\n",
      "yt : [INFO     ] 2020-01-22 14:52:03,826 Eliminating invalid, childless clump with 4 cells.\n",
      "yt : [INFO     ] 2020-01-22 14:52:03,828 Finding clumps: min: 1.280000e-26, max: 1.000000e-26, step: 2.000000\n",
      "yt : [INFO     ] 2020-01-22 14:52:03,829 Eliminating invalid, childless clump with 2 cells.\n",
      "yt : [INFO     ] 2020-01-22 14:52:03,829 0 of 2 children survived, erasing children.\n",
      "yt : [INFO     ] 2020-01-22 14:52:03,830 2 of 2 children survived.\n",
      "yt : [INFO     ] 2020-01-22 14:52:03,831 Finding clumps: min: 8.000000e-28, max: 1.000000e-26, step: 2.000000\n",
      "yt : [INFO     ] 2020-01-22 14:52:06,037 Linking node (1) contours.\n",
      "yt : [INFO     ] 2020-01-22 14:52:06,470 Linked.\n",
      "yt : [INFO     ] 2020-01-22 14:52:10,430 Finding clumps: min: 1.600000e-27, max: 1.000000e-26, step: 2.000000\n",
      "yt : [INFO     ] 2020-01-22 14:52:10,432 Wiping out existing children clumps: 1.\n",
      "yt : [INFO     ] 2020-01-22 14:52:11,842 Linking node (1) contours.\n",
      "yt : [INFO     ] 2020-01-22 14:52:12,354 Linked.\n",
      "yt : [INFO     ] 2020-01-22 14:52:15,931 Finding clumps: min: 3.200000e-27, max: 1.000000e-26, step: 2.000000\n",
      "yt : [INFO     ] 2020-01-22 14:52:15,932 Wiping out existing children clumps: 1.\n",
      "yt : [INFO     ] 2020-01-22 14:52:17,239 Linking node (1) contours.\n",
      "yt : [INFO     ] 2020-01-22 14:52:17,679 Linked.\n",
      "yt : [INFO     ] 2020-01-22 14:52:21,231 Finding clumps: min: 6.400000e-27, max: 1.000000e-26, step: 2.000000\n"
     ]
    },
    {
     "name": "stderr",
     "output_type": "stream",
     "text": [
      "yt : [INFO     ] 2020-01-22 14:52:21,232 Wiping out existing children clumps: 1.\n",
      "yt : [INFO     ] 2020-01-22 14:52:22,635 Linking node (1) contours.\n",
      "yt : [INFO     ] 2020-01-22 14:52:23,023 Linked.\n",
      "yt : [INFO     ] 2020-01-22 14:52:32,331 Investigating 3 children.\n",
      "yt : [INFO     ] 2020-01-22 14:52:32,427 Finding clumps: min: 1.280000e-26, max: 1.000000e-26, step: 2.000000\n",
      "yt : [INFO     ] 2020-01-22 14:52:32,428 Finding clumps: min: 1.280000e-26, max: 1.000000e-26, step: 2.000000\n",
      "yt : [INFO     ] 2020-01-22 14:52:32,429 Eliminating invalid, childless clump with 2 cells.\n",
      "yt : [INFO     ] 2020-01-22 14:52:32,429 Finding clumps: min: 1.280000e-26, max: 1.000000e-26, step: 2.000000\n",
      "yt : [INFO     ] 2020-01-22 14:52:32,430 Eliminating invalid, childless clump with 1 cells.\n",
      "yt : [INFO     ] 2020-01-22 14:52:32,431 1 of 3 children survived, linking its children to parent.\n",
      "yt : [INFO     ] 2020-01-22 14:52:32,526 10 of 11 children survived.\n",
      "yt : [INFO     ] 2020-01-22 14:52:35,727 Saving field data to yt dataset: DD0050_clump_0.h5.\n",
      "yt : [INFO     ] 2020-01-22 14:52:36,358 Parameters: current_time              = 1.4999997187781 code_time\n",
      "yt : [INFO     ] 2020-01-22 14:52:36,359 Parameters: domain_dimensions         = [ 64  64 256]\n",
      "yt : [INFO     ] 2020-01-22 14:52:36,360 Parameters: domain_left_edge          = [-0.5 -0.5 -2. ] code_length\n",
      "yt : [INFO     ] 2020-01-22 14:52:36,360 Parameters: domain_right_edge         = [0.5 0.5 2. ] code_length\n",
      "yt : [INFO     ] 2020-01-22 14:52:36,361 Parameters: cosmological_simulation   = 0.0\n",
      "yt : [WARNING  ] 2020-01-22 14:52:36,362 Geometric data selection not available for this dataset type.\n"
     ]
    },
    {
     "ename": "AttributeError",
     "evalue": "'EnzoDataset' object has no attribute 'tree'",
     "output_type": "error",
     "traceback": [
      "\u001b[0;31m---------------------------------------------------------------------------\u001b[0m",
      "\u001b[0;31mAttributeError\u001b[0m                            Traceback (most recent call last)",
      "\u001b[0;32m<ipython-input-41-4994fba0b0d5>\u001b[0m in \u001b[0;36m<module>\u001b[0;34m\u001b[0m\n\u001b[1;32m     10\u001b[0m \u001b[0mfn\u001b[0m \u001b[0;34m=\u001b[0m \u001b[0mmaster_clump\u001b[0m\u001b[0;34m.\u001b[0m\u001b[0msave_as_dataset\u001b[0m\u001b[0;34m(\u001b[0m\u001b[0mfields\u001b[0m\u001b[0;34m=\u001b[0m\u001b[0;34m[\u001b[0m\u001b[0;34m\"density\"\u001b[0m\u001b[0;34m,\u001b[0m \u001b[0;34m\"cell_mass\"\u001b[0m\u001b[0;34m,\u001b[0m \u001b[0;34m\"temperature\"\u001b[0m\u001b[0;34m]\u001b[0m\u001b[0;34m)\u001b[0m\u001b[0;34m\u001b[0m\u001b[0;34m\u001b[0m\u001b[0m\n\u001b[1;32m     11\u001b[0m \u001b[0mnew_ds\u001b[0m \u001b[0;34m=\u001b[0m \u001b[0myt\u001b[0m\u001b[0;34m.\u001b[0m\u001b[0mload\u001b[0m\u001b[0;34m(\u001b[0m\u001b[0mfn\u001b[0m\u001b[0;34m)\u001b[0m\u001b[0;34m\u001b[0m\u001b[0;34m\u001b[0m\u001b[0m\n\u001b[0;32m---> 12\u001b[0;31m \u001b[0mprint\u001b[0m\u001b[0;34m(\u001b[0m\u001b[0mds\u001b[0m\u001b[0;34m.\u001b[0m\u001b[0mtree\u001b[0m\u001b[0;34m[\u001b[0m\u001b[0;34m\"clump\"\u001b[0m\u001b[0;34m,\u001b[0m \u001b[0;34m\"cell_mass\"\u001b[0m\u001b[0;34m]\u001b[0m\u001b[0;34m)\u001b[0m\u001b[0;34m\u001b[0m\u001b[0;34m\u001b[0m\u001b[0m\n\u001b[0m\u001b[1;32m     13\u001b[0m \u001b[0mprint\u001b[0m\u001b[0;34m(\u001b[0m\u001b[0mds\u001b[0m\u001b[0;34m.\u001b[0m\u001b[0mtree\u001b[0m\u001b[0;34m[\u001b[0m\u001b[0;34m\"grid\"\u001b[0m\u001b[0;34m,\u001b[0m \u001b[0;34m\"density\"\u001b[0m\u001b[0;34m]\u001b[0m\u001b[0;34m)\u001b[0m\u001b[0;34m\u001b[0m\u001b[0;34m\u001b[0m\u001b[0m\n\u001b[1;32m     14\u001b[0m \u001b[0mprint\u001b[0m\u001b[0;34m(\u001b[0m\u001b[0mds\u001b[0m\u001b[0;34m.\u001b[0m\u001b[0mtree\u001b[0m\u001b[0;34m[\u001b[0m\u001b[0;34m\"all\"\u001b[0m\u001b[0;34m,\u001b[0m \u001b[0;34m\"particle_mass\"\u001b[0m\u001b[0;34m]\u001b[0m\u001b[0;34m)\u001b[0m\u001b[0;34m\u001b[0m\u001b[0;34m\u001b[0m\u001b[0m\n",
      "\u001b[0;31mAttributeError\u001b[0m: 'EnzoDataset' object has no attribute 'tree'"
     ]
    }
   ],
   "source": [
    "data_source = ds.r[:, :, .8:1.2]\n",
    "field = (\"gas\", \"density\")\n",
    "step = 2.0\n",
    "c_min = 10**np.floor(np.log10(data_source[field]).min()  )\n",
    "c_max = 10**np.floor(np.log10(data_source[field]).max()+1)\n",
    "master_clump = Clump(data_source, field)\n",
    "master_clump.add_info_item(\"center_of_mass\")\n",
    "master_clump.add_validator(\"min_cells\", 8)\n",
    "find_clumps(master_clump, c_min, c_max, step)\n",
    "fn = master_clump.save_as_dataset(fields=[\"density\", \"cell_mass\", \"temperature\"])\n",
    "new_ds = yt.load(fn)\n",
    "print(new_ds.tree[\"clump\", \"cell_mass\"])\n",
    "print(new_ds.tree[\"grid\", \"density\"])\n",
    "print(new_ds.tree[\"all\", \"particle_mass\"])\n",
    "print(new_ds.tree.children[0][\"clump\", \"cell_mass\"])\n",
    "print(new_ds.leaves[0][\"clump\", \"cell_mass\"])\n",
    "print(new_ds.leaves[0][\"grid\", \"density\"])"
   ]
  },
  {
   "cell_type": "code",
   "execution_count": 43,
   "metadata": {},
   "outputs": [
    {
     "name": "stdout",
     "output_type": "stream",
     "text": [
      "242533823.81594494 Msun\n",
      "[2.69104048e-28 2.66132733e-28 2.64875506e-28 ... 3.59263201e-27\n",
      " 2.81528480e-27 2.00404559e-27] g/cm**3\n"
     ]
    },
    {
     "ename": "KeyError",
     "evalue": "\"Unable to open object (object 'all' doesn't exist)\"",
     "output_type": "error",
     "traceback": [
      "\u001b[0;31m---------------------------------------------------------------------------\u001b[0m",
      "\u001b[0;31mKeyError\u001b[0m                                  Traceback (most recent call last)",
      "\u001b[0;32m<ipython-input-43-7842ef8e0654>\u001b[0m in \u001b[0;36m<module>\u001b[0;34m\u001b[0m\n\u001b[1;32m      1\u001b[0m \u001b[0mprint\u001b[0m\u001b[0;34m(\u001b[0m\u001b[0mnew_ds\u001b[0m\u001b[0;34m.\u001b[0m\u001b[0mtree\u001b[0m\u001b[0;34m[\u001b[0m\u001b[0;34m\"clump\"\u001b[0m\u001b[0;34m,\u001b[0m \u001b[0;34m\"cell_mass\"\u001b[0m\u001b[0;34m]\u001b[0m\u001b[0;34m)\u001b[0m\u001b[0;34m\u001b[0m\u001b[0;34m\u001b[0m\u001b[0m\n\u001b[1;32m      2\u001b[0m \u001b[0mprint\u001b[0m\u001b[0;34m(\u001b[0m\u001b[0mnew_ds\u001b[0m\u001b[0;34m.\u001b[0m\u001b[0mtree\u001b[0m\u001b[0;34m[\u001b[0m\u001b[0;34m\"grid\"\u001b[0m\u001b[0;34m,\u001b[0m \u001b[0;34m\"density\"\u001b[0m\u001b[0;34m]\u001b[0m\u001b[0;34m)\u001b[0m\u001b[0;34m\u001b[0m\u001b[0;34m\u001b[0m\u001b[0m\n\u001b[0;32m----> 3\u001b[0;31m \u001b[0mprint\u001b[0m\u001b[0;34m(\u001b[0m\u001b[0mnew_ds\u001b[0m\u001b[0;34m.\u001b[0m\u001b[0mtree\u001b[0m\u001b[0;34m[\u001b[0m\u001b[0;34m\"all\"\u001b[0m\u001b[0;34m,\u001b[0m \u001b[0;34m\"cell_mass\"\u001b[0m\u001b[0;34m]\u001b[0m\u001b[0;34m)\u001b[0m\u001b[0;34m\u001b[0m\u001b[0;34m\u001b[0m\u001b[0m\n\u001b[0m\u001b[1;32m      4\u001b[0m \u001b[0mprint\u001b[0m\u001b[0;34m(\u001b[0m\u001b[0mnew_ds\u001b[0m\u001b[0;34m.\u001b[0m\u001b[0mtree\u001b[0m\u001b[0;34m.\u001b[0m\u001b[0mchildren\u001b[0m\u001b[0;34m[\u001b[0m\u001b[0;36m0\u001b[0m\u001b[0;34m]\u001b[0m\u001b[0;34m[\u001b[0m\u001b[0;34m\"clump\"\u001b[0m\u001b[0;34m,\u001b[0m \u001b[0;34m\"cell_mass\"\u001b[0m\u001b[0;34m]\u001b[0m\u001b[0;34m)\u001b[0m\u001b[0;34m\u001b[0m\u001b[0;34m\u001b[0m\u001b[0m\n\u001b[1;32m      5\u001b[0m \u001b[0mprint\u001b[0m\u001b[0;34m(\u001b[0m\u001b[0mnew_ds\u001b[0m\u001b[0;34m.\u001b[0m\u001b[0mleaves\u001b[0m\u001b[0;34m[\u001b[0m\u001b[0;36m0\u001b[0m\u001b[0;34m]\u001b[0m\u001b[0;34m[\u001b[0m\u001b[0;34m\"clump\"\u001b[0m\u001b[0;34m,\u001b[0m \u001b[0;34m\"cell_mass\"\u001b[0m\u001b[0;34m]\u001b[0m\u001b[0;34m)\u001b[0m\u001b[0;34m\u001b[0m\u001b[0;34m\u001b[0m\u001b[0m\n",
      "\u001b[0;32m~/yt/yt/frontends/ytdata/data_structures.py\u001b[0m in \u001b[0;36m__getitem__\u001b[0;34m(self, field)\u001b[0m\n\u001b[1;32m    864\u001b[0m             \u001b[0;32mreturn\u001b[0m \u001b[0mg\u001b[0m\u001b[0;34m[\u001b[0m\u001b[0mf\u001b[0m\u001b[0;34m]\u001b[0m\u001b[0;34m[\u001b[0m\u001b[0mself\u001b[0m\u001b[0;34m.\u001b[0m\u001b[0mglobal_id\u001b[0m\u001b[0;34m]\u001b[0m\u001b[0;34m\u001b[0m\u001b[0;34m\u001b[0m\u001b[0m\n\u001b[1;32m    865\u001b[0m         \u001b[0;32mif\u001b[0m \u001b[0mself\u001b[0m\u001b[0;34m.\u001b[0m\u001b[0mcontour_id\u001b[0m \u001b[0;34m==\u001b[0m \u001b[0;34m-\u001b[0m\u001b[0;36m1\u001b[0m\u001b[0;34m:\u001b[0m\u001b[0;34m\u001b[0m\u001b[0;34m\u001b[0m\u001b[0m\n\u001b[0;32m--> 866\u001b[0;31m             \u001b[0;32mreturn\u001b[0m \u001b[0mg\u001b[0m\u001b[0;34m[\u001b[0m\u001b[0mf\u001b[0m\u001b[0;34m]\u001b[0m\u001b[0;34m\u001b[0m\u001b[0;34m\u001b[0m\u001b[0m\n\u001b[0m\u001b[1;32m    867\u001b[0m         \u001b[0mcfield\u001b[0m \u001b[0;34m=\u001b[0m \u001b[0;34m(\u001b[0m\u001b[0mf\u001b[0m\u001b[0;34m[\u001b[0m\u001b[0;36m0\u001b[0m\u001b[0;34m]\u001b[0m\u001b[0;34m,\u001b[0m \u001b[0;34m\"contours_%s\"\u001b[0m \u001b[0;34m%\u001b[0m \u001b[0mself\u001b[0m\u001b[0;34m.\u001b[0m\u001b[0mcontour_key\u001b[0m\u001b[0;34m.\u001b[0m\u001b[0mdecode\u001b[0m\u001b[0;34m(\u001b[0m\u001b[0;34m'utf-8'\u001b[0m\u001b[0;34m)\u001b[0m\u001b[0;34m)\u001b[0m\u001b[0;34m\u001b[0m\u001b[0;34m\u001b[0m\u001b[0m\n\u001b[1;32m    868\u001b[0m         \u001b[0;32mif\u001b[0m \u001b[0mf\u001b[0m\u001b[0;34m[\u001b[0m\u001b[0;36m0\u001b[0m\u001b[0;34m]\u001b[0m \u001b[0;34m==\u001b[0m \u001b[0;34m\"grid\"\u001b[0m\u001b[0;34m:\u001b[0m\u001b[0;34m\u001b[0m\u001b[0;34m\u001b[0m\u001b[0m\n",
      "\u001b[0;32m~/yt/yt/frontends/ytdata/data_structures.py\u001b[0m in \u001b[0;36m__getitem__\u001b[0;34m(self, key)\u001b[0m\n\u001b[1;32m    544\u001b[0m \u001b[0;34m\u001b[0m\u001b[0m\n\u001b[1;32m    545\u001b[0m     \u001b[0;32mdef\u001b[0m \u001b[0m__getitem__\u001b[0m\u001b[0;34m(\u001b[0m\u001b[0mself\u001b[0m\u001b[0;34m,\u001b[0m \u001b[0mkey\u001b[0m\u001b[0;34m)\u001b[0m\u001b[0;34m:\u001b[0m\u001b[0;34m\u001b[0m\u001b[0;34m\u001b[0m\u001b[0m\n\u001b[0;32m--> 546\u001b[0;31m         \u001b[0mtr\u001b[0m \u001b[0;34m=\u001b[0m \u001b[0msuper\u001b[0m\u001b[0;34m(\u001b[0m\u001b[0mAMRGridPatch\u001b[0m\u001b[0;34m,\u001b[0m \u001b[0mself\u001b[0m\u001b[0;34m)\u001b[0m\u001b[0;34m.\u001b[0m\u001b[0m__getitem__\u001b[0m\u001b[0;34m(\u001b[0m\u001b[0mkey\u001b[0m\u001b[0;34m)\u001b[0m\u001b[0;34m\u001b[0m\u001b[0;34m\u001b[0m\u001b[0m\n\u001b[0m\u001b[1;32m    547\u001b[0m         \u001b[0;32mtry\u001b[0m\u001b[0;34m:\u001b[0m\u001b[0;34m\u001b[0m\u001b[0;34m\u001b[0m\u001b[0m\n\u001b[1;32m    548\u001b[0m             \u001b[0mfields\u001b[0m \u001b[0;34m=\u001b[0m \u001b[0mself\u001b[0m\u001b[0;34m.\u001b[0m\u001b[0m_determine_fields\u001b[0m\u001b[0;34m(\u001b[0m\u001b[0mkey\u001b[0m\u001b[0;34m)\u001b[0m\u001b[0;34m\u001b[0m\u001b[0;34m\u001b[0m\u001b[0m\n",
      "\u001b[0;32m~/yt/yt/data_objects/data_containers.py\u001b[0m in \u001b[0;36m__getitem__\u001b[0;34m(self, key)\u001b[0m\n\u001b[1;32m    254\u001b[0m                 \u001b[0;32mreturn\u001b[0m \u001b[0mself\u001b[0m\u001b[0;34m.\u001b[0m\u001b[0mfield_data\u001b[0m\u001b[0;34m[\u001b[0m\u001b[0mf\u001b[0m\u001b[0;34m]\u001b[0m\u001b[0;34m\u001b[0m\u001b[0;34m\u001b[0m\u001b[0m\n\u001b[1;32m    255\u001b[0m             \u001b[0;32melse\u001b[0m\u001b[0;34m:\u001b[0m\u001b[0;34m\u001b[0m\u001b[0;34m\u001b[0m\u001b[0m\n\u001b[0;32m--> 256\u001b[0;31m                 \u001b[0mself\u001b[0m\u001b[0;34m.\u001b[0m\u001b[0mget_data\u001b[0m\u001b[0;34m(\u001b[0m\u001b[0mf\u001b[0m\u001b[0;34m)\u001b[0m\u001b[0;34m\u001b[0m\u001b[0;34m\u001b[0m\u001b[0m\n\u001b[0m\u001b[1;32m    257\u001b[0m         \u001b[0;31m# fi.units is the unit expression string. We depend on the registry\u001b[0m\u001b[0;34m\u001b[0m\u001b[0;34m\u001b[0m\u001b[0;34m\u001b[0m\u001b[0m\n\u001b[1;32m    258\u001b[0m         \u001b[0;31m# hanging off the dataset to define this unit object.\u001b[0m\u001b[0;34m\u001b[0m\u001b[0;34m\u001b[0m\u001b[0;34m\u001b[0m\u001b[0m\n",
      "\u001b[0;32m~/yt/yt/frontends/ytdata/data_structures.py\u001b[0m in \u001b[0;36mget_data\u001b[0;34m(self, fields)\u001b[0m\n\u001b[1;32m    626\u001b[0m \u001b[0;34m\u001b[0m\u001b[0m\n\u001b[1;32m    627\u001b[0m         read_particles, gen_particles = self.index._read_fluid_fields(\n\u001b[0;32m--> 628\u001b[0;31m                                         particles, self, self._current_chunk)\n\u001b[0m\u001b[1;32m    629\u001b[0m         \u001b[0;32mfor\u001b[0m \u001b[0mf\u001b[0m\u001b[0;34m,\u001b[0m \u001b[0mv\u001b[0m \u001b[0;32min\u001b[0m \u001b[0mread_particles\u001b[0m\u001b[0;34m.\u001b[0m\u001b[0mitems\u001b[0m\u001b[0;34m(\u001b[0m\u001b[0;34m)\u001b[0m\u001b[0;34m:\u001b[0m\u001b[0;34m\u001b[0m\u001b[0;34m\u001b[0m\u001b[0m\n\u001b[1;32m    630\u001b[0m             \u001b[0mconvert\u001b[0m \u001b[0;34m=\u001b[0m \u001b[0;32mTrue\u001b[0m\u001b[0;34m\u001b[0m\u001b[0;34m\u001b[0m\u001b[0m\n",
      "\u001b[0;32m~/yt/yt/frontends/ytdata/data_structures.py\u001b[0m in \u001b[0;36m_read_fluid_fields\u001b[0;34m(self, fields, dobj, chunk)\u001b[0m\n\u001b[1;32m    673\u001b[0m             \u001b[0mdobj\u001b[0m\u001b[0;34m,\u001b[0m\u001b[0;34m\u001b[0m\u001b[0;34m\u001b[0m\u001b[0m\n\u001b[1;32m    674\u001b[0m             \u001b[0mselector\u001b[0m\u001b[0;34m,\u001b[0m\u001b[0;34m\u001b[0m\u001b[0;34m\u001b[0m\u001b[0m\n\u001b[0;32m--> 675\u001b[0;31m             fields_to_read)\n\u001b[0m\u001b[1;32m    676\u001b[0m         \u001b[0;32mreturn\u001b[0m \u001b[0mfields_to_return\u001b[0m\u001b[0;34m,\u001b[0m \u001b[0mfields_to_generate\u001b[0m\u001b[0;34m\u001b[0m\u001b[0;34m\u001b[0m\u001b[0m\n\u001b[1;32m    677\u001b[0m \u001b[0;34m\u001b[0m\u001b[0m\n",
      "\u001b[0;32m~/yt/yt/frontends/ytdata/io.py\u001b[0m in \u001b[0;36m_read_fluid_selection\u001b[0;34m(self, g, selector, fields)\u001b[0m\n\u001b[1;32m     52\u001b[0m                 \u001b[0mself\u001b[0m\u001b[0;34m.\u001b[0m\u001b[0m_misses\u001b[0m \u001b[0;34m+=\u001b[0m \u001b[0;36m1\u001b[0m\u001b[0;34m\u001b[0m\u001b[0;34m\u001b[0m\u001b[0m\n\u001b[1;32m     53\u001b[0m                 \u001b[0mftype\u001b[0m\u001b[0;34m,\u001b[0m \u001b[0mfname\u001b[0m \u001b[0;34m=\u001b[0m \u001b[0mfield\u001b[0m\u001b[0;34m\u001b[0m\u001b[0;34m\u001b[0m\u001b[0m\n\u001b[0;32m---> 54\u001b[0;31m                 \u001b[0mrv\u001b[0m\u001b[0;34m[\u001b[0m\u001b[0;34m(\u001b[0m\u001b[0mftype\u001b[0m\u001b[0;34m,\u001b[0m \u001b[0mfname\u001b[0m\u001b[0;34m)\u001b[0m\u001b[0;34m]\u001b[0m \u001b[0;34m=\u001b[0m \u001b[0mf\u001b[0m\u001b[0;34m[\u001b[0m\u001b[0mftype\u001b[0m\u001b[0;34m]\u001b[0m\u001b[0;34m[\u001b[0m\u001b[0mfname\u001b[0m\u001b[0;34m]\u001b[0m\u001b[0;34m[\u001b[0m\u001b[0;34m(\u001b[0m\u001b[0;34m)\u001b[0m\u001b[0;34m]\u001b[0m\u001b[0;34m\u001b[0m\u001b[0;34m\u001b[0m\u001b[0m\n\u001b[0m\u001b[1;32m     55\u001b[0m             \u001b[0;32mif\u001b[0m \u001b[0mself\u001b[0m\u001b[0;34m.\u001b[0m\u001b[0m_cache_on\u001b[0m\u001b[0;34m:\u001b[0m\u001b[0;34m\u001b[0m\u001b[0;34m\u001b[0m\u001b[0m\n\u001b[1;32m     56\u001b[0m                 \u001b[0;32mfor\u001b[0m \u001b[0mgid\u001b[0m \u001b[0;32min\u001b[0m \u001b[0mrv\u001b[0m\u001b[0;34m:\u001b[0m\u001b[0;34m\u001b[0m\u001b[0;34m\u001b[0m\u001b[0m\n",
      "\u001b[0;32mh5py/_objects.pyx\u001b[0m in \u001b[0;36mh5py._objects.with_phil.wrapper\u001b[0;34m()\u001b[0m\n",
      "\u001b[0;32mh5py/_objects.pyx\u001b[0m in \u001b[0;36mh5py._objects.with_phil.wrapper\u001b[0;34m()\u001b[0m\n",
      "\u001b[0;32m~/miniconda3/lib/python3.7/site-packages/h5py/_hl/group.py\u001b[0m in \u001b[0;36m__getitem__\u001b[0;34m(self, name)\u001b[0m\n\u001b[1;32m    262\u001b[0m                 \u001b[0;32mraise\u001b[0m \u001b[0mValueError\u001b[0m\u001b[0;34m(\u001b[0m\u001b[0;34m\"Invalid HDF5 object reference\"\u001b[0m\u001b[0;34m)\u001b[0m\u001b[0;34m\u001b[0m\u001b[0;34m\u001b[0m\u001b[0m\n\u001b[1;32m    263\u001b[0m         \u001b[0;32melse\u001b[0m\u001b[0;34m:\u001b[0m\u001b[0;34m\u001b[0m\u001b[0;34m\u001b[0m\u001b[0m\n\u001b[0;32m--> 264\u001b[0;31m             \u001b[0moid\u001b[0m \u001b[0;34m=\u001b[0m \u001b[0mh5o\u001b[0m\u001b[0;34m.\u001b[0m\u001b[0mopen\u001b[0m\u001b[0;34m(\u001b[0m\u001b[0mself\u001b[0m\u001b[0;34m.\u001b[0m\u001b[0mid\u001b[0m\u001b[0;34m,\u001b[0m \u001b[0mself\u001b[0m\u001b[0;34m.\u001b[0m\u001b[0m_e\u001b[0m\u001b[0;34m(\u001b[0m\u001b[0mname\u001b[0m\u001b[0;34m)\u001b[0m\u001b[0;34m,\u001b[0m \u001b[0mlapl\u001b[0m\u001b[0;34m=\u001b[0m\u001b[0mself\u001b[0m\u001b[0;34m.\u001b[0m\u001b[0m_lapl\u001b[0m\u001b[0;34m)\u001b[0m\u001b[0;34m\u001b[0m\u001b[0;34m\u001b[0m\u001b[0m\n\u001b[0m\u001b[1;32m    265\u001b[0m \u001b[0;34m\u001b[0m\u001b[0m\n\u001b[1;32m    266\u001b[0m         \u001b[0motype\u001b[0m \u001b[0;34m=\u001b[0m \u001b[0mh5i\u001b[0m\u001b[0;34m.\u001b[0m\u001b[0mget_type\u001b[0m\u001b[0;34m(\u001b[0m\u001b[0moid\u001b[0m\u001b[0;34m)\u001b[0m\u001b[0;34m\u001b[0m\u001b[0;34m\u001b[0m\u001b[0m\n",
      "\u001b[0;32mh5py/_objects.pyx\u001b[0m in \u001b[0;36mh5py._objects.with_phil.wrapper\u001b[0;34m()\u001b[0m\n",
      "\u001b[0;32mh5py/_objects.pyx\u001b[0m in \u001b[0;36mh5py._objects.with_phil.wrapper\u001b[0;34m()\u001b[0m\n",
      "\u001b[0;32mh5py/h5o.pyx\u001b[0m in \u001b[0;36mh5py.h5o.open\u001b[0;34m()\u001b[0m\n",
      "\u001b[0;31mKeyError\u001b[0m: \"Unable to open object (object 'all' doesn't exist)\""
     ]
    }
   ],
   "source": [
    "print(new_ds.tree[\"clump\", \"cell_mass\"])\n",
    "print(new_ds.tree[\"grid\", \"density\"])\n",
    "print(new_ds.tree[\"all\", \"cell_mass\"])\n",
    "print(new_ds.tree.children[0][\"clump\", \"cell_mass\"])\n",
    "print(new_ds.leaves[0][\"clump\", \"cell_mass\"])\n",
    "print(new_ds.leaves[0][\"grid\", \"density\"])"
   ]
  },
  {
   "cell_type": "code",
   "execution_count": null,
   "metadata": {},
   "outputs": [],
   "source": []
  }
 ],
 "metadata": {
  "kernelspec": {
   "display_name": "Python 3",
   "language": "python",
   "name": "python3"
  },
  "language_info": {
   "codemirror_mode": {
    "name": "ipython",
    "version": 3
   },
   "file_extension": ".py",
   "mimetype": "text/x-python",
   "name": "python",
   "nbconvert_exporter": "python",
   "pygments_lexer": "ipython3",
   "version": "3.7.3"
  }
 },
 "nbformat": 4,
 "nbformat_minor": 2
}
