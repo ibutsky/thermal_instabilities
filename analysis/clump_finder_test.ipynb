{
 "cells": [
  {
   "cell_type": "code",
   "execution_count": 1,
   "metadata": {},
   "outputs": [
    {
     "name": "stderr",
     "output_type": "stream",
     "text": [
      "yt : [INFO     ] 2020-01-22 13:42:58,136 Parameters: current_time              = 0\n",
      "yt : [INFO     ] 2020-01-22 13:42:58,138 Parameters: domain_dimensions         = [128 128 128]\n",
      "yt : [INFO     ] 2020-01-22 13:42:58,139 Parameters: domain_left_edge          = [-3. -3. -3.]\n",
      "yt : [INFO     ] 2020-01-22 13:42:58,140 Parameters: domain_right_edge         = [3. 3. 3.]\n",
      "yt : [INFO     ] 2020-01-22 13:42:58,141 Parameters: cosmological_simulation   = 0.0\n"
     ]
    }
   ],
   "source": [
    "import yt\n",
    "from yt import YTArray\n",
    "from yt import YTQuantity\n",
    "from yt.data_objects.level_sets.api import *\n",
    "\n",
    "from astropy import constants as const\n",
    "\n",
    "import numpy as np\n",
    "\n",
    "import matplotlib\n",
    "%matplotlib inline\n",
    "import matplotlib.pylab as plt\n",
    "from matplotlib.colors import SymLogNorm, LogNorm\n",
    "\n",
    "import palettable\n",
    "import plotting_tools as pt\n",
    "import yt_functions as ytf\n",
    "\n",
    "\n",
    "\n"
   ]
  },
  {
   "cell_type": "code",
   "execution_count": 20,
   "metadata": {},
   "outputs": [],
   "source": [
    "def get_masked_data_source(ds, z_min = 0.8, z_max = 1.2, T_cold = 3.33333e5):\n",
    "    ad = ds.all_data()\n",
    "    z_abs_code = np.abs(ad[('gas', 'z')] / ds.length_unit.in_units('kpc'))\n",
    "    zmask= (z_abs_code >= z_min) & (z_abs_code <= z_max)\n",
    "    return ad[zmask]\n",
    "\n",
    "def _maximum_gas_temperature(clump, max_temp):\n",
    "    return (clump[\"gas\", \"temperature\"].sum() <= max_temp)\n",
    "add_validator(\"maximum_gas_temperature\", _maximum_gas_temperature)"
   ]
  },
  {
   "cell_type": "code",
   "execution_count": 3,
   "metadata": {},
   "outputs": [
    {
     "name": "stderr",
     "output_type": "stream",
     "text": [
      "yt : [INFO     ] 2020-01-22 13:43:26,315 Parameters: current_time              = 1.4999997187781\n",
      "yt : [INFO     ] 2020-01-22 13:43:26,316 Parameters: domain_dimensions         = [ 64  64 256]\n",
      "yt : [INFO     ] 2020-01-22 13:43:26,317 Parameters: domain_left_edge          = [-0.5 -0.5 -2. ]\n",
      "yt : [INFO     ] 2020-01-22 13:43:26,318 Parameters: domain_right_edge         = [0.5 0.5 2. ]\n",
      "yt : [INFO     ] 2020-01-22 13:43:26,319 Parameters: cosmological_simulation   = 0.0\n",
      "yt : [INFO     ] 2020-01-22 13:43:26,323 Gathering a field list (this may take a moment.)\n"
     ]
    }
   ],
   "source": [
    "i = 50\n",
    "folder = 'production/isocool_tctf_0.3_beta_100.0'\n",
    "ds = ytf.load('../../simulations/%s/DD%04d/DD%04d'%(folder, i, i))\n"
   ]
  },
  {
   "cell_type": "code",
   "execution_count": 34,
   "metadata": {},
   "outputs": [],
   "source": [
    "ad = ds.all_data()\n",
    "reg = ds.r[:, :, .8:1.2]\n"
   ]
  },
  {
   "cell_type": "code",
   "execution_count": 29,
   "metadata": {},
   "outputs": [],
   "source": [
    "master_clump = Clump(reg, ('gas', 'temperature'))\n",
    "master_clump.add_validator(\"min_cells\", 8)\n",
    "#master_clump.add_validator(\"maximum_gas_temperature\", 3.33333e5)\n",
    "\n"
   ]
  },
  {
   "cell_type": "code",
   "execution_count": 30,
   "metadata": {},
   "outputs": [
    {
     "name": "stderr",
     "output_type": "stream",
     "text": [
      "yt : [INFO     ] 2020-01-22 13:58:54,753 Finding clumps: min: 4.893958e+04, max: 2.119404e+06, step: 2.000000\n",
      "yt : [INFO     ] 2020-01-22 13:58:55,064 Linking node (1) contours.\n",
      "yt : [INFO     ] 2020-01-22 13:58:55,450 Linked.\n",
      "yt : [INFO     ] 2020-01-22 13:58:56,436 Finding clumps: min: 9.787916e+04, max: 2.119404e+06, step: 2.000000\n",
      "yt : [INFO     ] 2020-01-22 13:58:56,526 Wiping out existing children clumps: 1.\n",
      "yt : [INFO     ] 2020-01-22 13:58:56,862 Linking node (1) contours.\n",
      "yt : [INFO     ] 2020-01-22 13:58:57,186 Linked.\n",
      "yt : [INFO     ] 2020-01-22 13:58:58,036 Finding clumps: min: 1.957583e+05, max: 2.119404e+06, step: 2.000000\n",
      "yt : [INFO     ] 2020-01-22 13:58:58,037 Wiping out existing children clumps: 1.\n",
      "yt : [INFO     ] 2020-01-22 13:58:58,454 Linking node (1) contours.\n",
      "yt : [INFO     ] 2020-01-22 13:58:58,799 Linked.\n",
      "yt : [INFO     ] 2020-01-22 13:59:00,028 Finding clumps: min: 3.915167e+05, max: 2.119404e+06, step: 2.000000\n",
      "yt : [INFO     ] 2020-01-22 13:59:00,030 Wiping out existing children clumps: 1.\n",
      "yt : [INFO     ] 2020-01-22 13:59:00,433 Linking node (1) contours.\n",
      "yt : [INFO     ] 2020-01-22 13:59:00,776 Linked.\n",
      "yt : [INFO     ] 2020-01-22 13:59:01,729 Finding clumps: min: 7.830333e+05, max: 2.119404e+06, step: 2.000000\n",
      "yt : [INFO     ] 2020-01-22 13:59:01,730 Wiping out existing children clumps: 1.\n",
      "yt : [INFO     ] 2020-01-22 13:59:02,134 Linking node (1) contours.\n",
      "yt : [INFO     ] 2020-01-22 13:59:02,466 Linked.\n",
      "yt : [INFO     ] 2020-01-22 13:59:03,426 Finding clumps: min: 1.566067e+06, max: 2.119404e+06, step: 2.000000\n",
      "yt : [INFO     ] 2020-01-22 13:59:03,428 Wiping out existing children clumps: 1.\n",
      "yt : [INFO     ] 2020-01-22 13:59:03,752 Linking node (1) contours.\n",
      "yt : [INFO     ] 2020-01-22 13:59:04,121 Linked.\n",
      "yt : [INFO     ] 2020-01-22 13:59:05,026 Investigating 2 children.\n",
      "yt : [INFO     ] 2020-01-22 13:59:05,027 Finding clumps: min: 3.132133e+06, max: 2.119404e+06, step: 2.000000\n",
      "yt : [INFO     ] 2020-01-22 13:59:05,028 Finding clumps: min: 3.132133e+06, max: 2.119404e+06, step: 2.000000\n",
      "yt : [INFO     ] 2020-01-22 13:59:05,029 2 of 2 children survived.\n"
     ]
    }
   ],
   "source": [
    "c_min = reg[\"gas\", \"temperature\"].min()\n",
    "c_max = reg[\"gas\", \"temperature\"].max()\n",
    "step = 2.0\n",
    "find_clumps(master_clump, c_min, c_max, step)"
   ]
  },
  {
   "cell_type": "code",
   "execution_count": 33,
   "metadata": {},
   "outputs": [
    {
     "name": "stdout",
     "output_type": "stream",
     "text": [
      "('Cells: %d.', 9)\n"
     ]
    }
   ],
   "source": [
    "master_clump.add_info_item(\"total_cells\")\n",
    "leaf_clumps = master_clump.leaves\n",
    "clump = leaf_clumps[1]\n",
    "print(clump.info['total_cells'])"
   ]
  },
  {
   "cell_type": "code",
   "execution_count": 17,
   "metadata": {},
   "outputs": [
    {
     "name": "stdout",
     "output_type": "stream",
     "text": [
      "[1629145.27549999 1622939.90733232 1609259.02952231 ...   56302.5848589\n",
      "   57672.93987246   60644.63773788] K\n",
      "[<yt.data_objects.level_sets.clump_handling.Clump object at 0x2aaae52c5908>, <yt.data_objects.level_sets.clump_handling.Clump object at 0x2aaae52d4e80>]\n",
      "[1629145.27549999 1622939.90733232 1609259.02952231 ... 1751280.29349854\n",
      " 1744215.69161679 1689307.98969373] K\n"
     ]
    }
   ],
   "source": [
    "print(master_clump[\"gas\", \"temperature\"])\n",
    "print(master_clump.children)\n",
    "print(master_clump.children[0][\"gas\", \"temperature\"])"
   ]
  },
  {
   "cell_type": "code",
   "execution_count": 18,
   "metadata": {},
   "outputs": [
    {
     "ename": "AttributeError",
     "evalue": "'Clump' object has no attribute 'tree'",
     "output_type": "error",
     "traceback": [
      "\u001b[0;31m---------------------------------------------------------------------------\u001b[0m",
      "\u001b[0;31mAttributeError\u001b[0m                            Traceback (most recent call last)",
      "\u001b[0;32m<ipython-input-18-4522adec05a7>\u001b[0m in \u001b[0;36m<module>\u001b[0;34m\u001b[0m\n\u001b[0;32m----> 1\u001b[0;31m \u001b[0;32mfor\u001b[0m \u001b[0mclump\u001b[0m \u001b[0;32min\u001b[0m \u001b[0mmaster_clump\u001b[0m\u001b[0;34m.\u001b[0m\u001b[0mtree\u001b[0m\u001b[0;34m:\u001b[0m\u001b[0;34m\u001b[0m\u001b[0;34m\u001b[0m\u001b[0m\n\u001b[0m\u001b[1;32m      2\u001b[0m     \u001b[0mprint\u001b[0m\u001b[0;34m(\u001b[0m\u001b[0mclump\u001b[0m\u001b[0;34m.\u001b[0m\u001b[0mclump_id\u001b[0m\u001b[0;34m)\u001b[0m\u001b[0;34m\u001b[0m\u001b[0;34m\u001b[0m\u001b[0m\n",
      "\u001b[0;31mAttributeError\u001b[0m: 'Clump' object has no attribute 'tree'"
     ]
    }
   ],
   "source": [
    "for clump in master_clump.tree:\n",
    "    print(clump.clump_id)"
   ]
  },
  {
   "cell_type": "code",
   "execution_count": null,
   "metadata": {
    "scrolled": false
   },
   "outputs": [],
   "source": [
    "data_source = ds.r[:, :, .8:1.2]\n",
    "field = (\"gas\", \"density\")\n",
    "step = 2.0\n",
    "c_min = 10**np.floor(np.log10(data_source[field]).min()  )\n",
    "c_max = 10**np.floor(np.log10(data_source[field]).max()+1)\n",
    "master_clump = Clump(data_source, field)\n",
    "master_clump.add_info_item(\"center_of_mass\")\n",
    "master_clump.add_validator(\"min_cells\", 8)\n",
    "find_clumps(master_clump, c_min, c_max, step)\n",
    "fn = master_clump.save_as_dataset(fields=[\"density\", \"cell_mass\", \"temperature\"])\n",
    "new_ds = yt.load(fn)\n",
    "print(ds.tree[\"clump\", \"cell_mass\"])\n",
    "print(ds.tree[\"grid\", \"density\"])\n",
    "print(ds.tree[\"all\", \"particle_mass\"])\n",
    "print(ds.tree.children[0][\"clump\", \"cell_mass\"])\n",
    "print(ds.leaves[0][\"clump\", \"cell_mass\"])\n",
    "print(ds.leaves[0][\"grid\", \"density\"])"
   ]
  },
  {
   "cell_type": "code",
   "execution_count": null,
   "metadata": {},
   "outputs": [],
   "source": []
  }
 ],
 "metadata": {
  "kernelspec": {
   "display_name": "Python 3",
   "language": "python",
   "name": "python3"
  },
  "language_info": {
   "codemirror_mode": {
    "name": "ipython",
    "version": 3
   },
   "file_extension": ".py",
   "mimetype": "text/x-python",
   "name": "python",
   "nbconvert_exporter": "python",
   "pygments_lexer": "ipython3",
   "version": "3.7.3"
  }
 },
 "nbformat": 4,
 "nbformat_minor": 2
}
